{
 "cells": [
  {
   "cell_type": "markdown",
   "id": "294c4b53",
   "metadata": {},
   "source": [
    "# Real estate price prediction\n",
    "## 1. 데이터 가져오기"
   ]
  },
  {
   "cell_type": "code",
   "execution_count": 29,
   "id": "1a5204f5",
   "metadata": {},
   "outputs": [],
   "source": [
    "import sys\n",
    "assert sys.version_info >= (3,5)\n",
    "\n",
    "# 사이킷런 >=0.20 필수\n",
    "import sklearn\n",
    "assert sklearn.__version__ >= \"0.20\"\n",
    "\n",
    "# 공통 모듈 임포트\n",
    "import numpy as np\n",
    "import os\n",
    "\n",
    "# 깔끔한 그래프 출력을 위해 \n",
    "%matplotlib inline\n",
    "import matplotlib as mpl\n",
    "import matplotlib.pyplot as plt\n",
    "mpl.rc('axes', labelsize=14)\n",
    "mpl.rc('xtick', labelsize=12)\n",
    "mpl.rc('ytick', labelsize=12)\n"
   ]
  },
  {
   "cell_type": "code",
   "execution_count": 30,
   "id": "697d11eb",
   "metadata": {},
   "outputs": [],
   "source": [
    "# 그래프에서 마이너스 폰트 깨지는 문제 해결\n",
    "mpl.rcParams['axes.unicode_minus'] = False\n",
    "\n",
    "# 한글폰트 사용\n",
    "plt.rcParams[\"font.size\"] = 12\n",
    "plt.rcParams[\"font.family\"] = 'GULIM'\n",
    "plt.rcParams['xtick.labelsize'] = 12.\n",
    "plt.rcParams['ytick.labelsize'] = 12."
   ]
  },
  {
   "cell_type": "code",
   "execution_count": 31,
   "id": "f25db1f6",
   "metadata": {},
   "outputs": [],
   "source": [
    "# 시각화\n",
    "# 그림을 저장할 위치 \n",
    "PROJECT_ROOT_DIR = \".\"\n",
    "CHAPTER_ID = \"ml_project\"\n",
    "IMAGES_PATH = os.path.join(PROJECT_ROOT_DIR, \"images\", CHAPTER_ID)\n",
    "os.makedirs(IMAGES_PATH, exist_ok=True)\n",
    "\n",
    "def save_fig(fig_id, tight_layout=True, fig_extension=\"png\", resolution=300):\n",
    "    path = os.path.join(IMAGES_PATH, fig_id + \".\"+fig_extension)\n",
    "    print(\"그림 저장: \",fig_id)\n",
    "    \n",
    "    if tight_layout:\n",
    "        plt.tight_layout()\n",
    "    plt.savefig(path, format=fig_extension, dpi=resolution)\n",
    "    \n",
    "# 불필요한 경고 무시\n",
    "import warnings\n",
    "warnings.filterwarnings(action = \"ignore\", message=\"^internal gelsd\")"
   ]
  },
  {
   "cell_type": "code",
   "execution_count": 32,
   "id": "9beef668",
   "metadata": {},
   "outputs": [
    {
     "data": {
      "text/html": [
       "<div>\n",
       "<style scoped>\n",
       "    .dataframe tbody tr th:only-of-type {\n",
       "        vertical-align: middle;\n",
       "    }\n",
       "\n",
       "    .dataframe tbody tr th {\n",
       "        vertical-align: top;\n",
       "    }\n",
       "\n",
       "    .dataframe thead th {\n",
       "        text-align: right;\n",
       "    }\n",
       "</style>\n",
       "<table border=\"1\" class=\"dataframe\">\n",
       "  <thead>\n",
       "    <tr style=\"text-align: right;\">\n",
       "      <th></th>\n",
       "      <th>실거래가아이디</th>\n",
       "      <th>지번코드</th>\n",
       "      <th>시군구코드</th>\n",
       "      <th>자치구명</th>\n",
       "      <th>법정동코드</th>\n",
       "      <th>법정동명</th>\n",
       "      <th>신고년도</th>\n",
       "      <th>업무구분코드</th>\n",
       "      <th>업무구분</th>\n",
       "      <th>물건번호</th>\n",
       "      <th>대지권면적</th>\n",
       "      <th>건물면적</th>\n",
       "      <th>관리구분코드</th>\n",
       "      <th>층정보</th>\n",
       "      <th>건물주용도코드</th>\n",
       "      <th>건물주용도</th>\n",
       "      <th>물건금액</th>\n",
       "      <th>건축년도</th>\n",
       "      <th>건물명</th>\n",
       "    </tr>\n",
       "  </thead>\n",
       "  <tbody>\n",
       "    <tr>\n",
       "      <th>0</th>\n",
       "      <td>11290-2020-4-0000066-1</td>\n",
       "      <td>1.12901E+18</td>\n",
       "      <td>11290</td>\n",
       "      <td>성북구</td>\n",
       "      <td>1129013800</td>\n",
       "      <td>장위동</td>\n",
       "      <td>2020</td>\n",
       "      <td>4</td>\n",
       "      <td>신고</td>\n",
       "      <td>1</td>\n",
       "      <td>0.0</td>\n",
       "      <td>59.92</td>\n",
       "      <td>2</td>\n",
       "      <td>5.0</td>\n",
       "      <td>2001</td>\n",
       "      <td>아파트</td>\n",
       "      <td>749000000</td>\n",
       "      <td>0.0</td>\n",
       "      <td>래미안 장위포레카운티</td>\n",
       "    </tr>\n",
       "    <tr>\n",
       "      <th>1</th>\n",
       "      <td>11290-2020-4-0000628-1</td>\n",
       "      <td>1.12901E+18</td>\n",
       "      <td>11290</td>\n",
       "      <td>성북구</td>\n",
       "      <td>1129013400</td>\n",
       "      <td>길음동</td>\n",
       "      <td>2020</td>\n",
       "      <td>4</td>\n",
       "      <td>신고</td>\n",
       "      <td>1</td>\n",
       "      <td>0.0</td>\n",
       "      <td>84.77</td>\n",
       "      <td>2</td>\n",
       "      <td>18.0</td>\n",
       "      <td>2001</td>\n",
       "      <td>아파트</td>\n",
       "      <td>1200000000</td>\n",
       "      <td>0.0</td>\n",
       "      <td>롯데캐슬 클라시아</td>\n",
       "    </tr>\n",
       "    <tr>\n",
       "      <th>2</th>\n",
       "      <td>11530-2020-4-0014284-1</td>\n",
       "      <td>1.15301E+18</td>\n",
       "      <td>11530</td>\n",
       "      <td>구로구</td>\n",
       "      <td>1153010200</td>\n",
       "      <td>구로동</td>\n",
       "      <td>2020</td>\n",
       "      <td>4</td>\n",
       "      <td>신고</td>\n",
       "      <td>1</td>\n",
       "      <td>NaN</td>\n",
       "      <td>36.90</td>\n",
       "      <td>0</td>\n",
       "      <td>1.0</td>\n",
       "      <td>2001</td>\n",
       "      <td>아파트</td>\n",
       "      <td>105000000</td>\n",
       "      <td>1994.0</td>\n",
       "      <td>궁전아트빌라</td>\n",
       "    </tr>\n",
       "  </tbody>\n",
       "</table>\n",
       "</div>"
      ],
      "text/plain": [
       "                  실거래가아이디         지번코드  시군구코드 자치구명       법정동코드 법정동명  신고년도  \\\n",
       "0  11290-2020-4-0000066-1  1.12901E+18  11290  성북구  1129013800  장위동  2020   \n",
       "1  11290-2020-4-0000628-1  1.12901E+18  11290  성북구  1129013400  길음동  2020   \n",
       "2  11530-2020-4-0014284-1  1.15301E+18  11530  구로구  1153010200  구로동  2020   \n",
       "\n",
       "   업무구분코드 업무구분  물건번호  대지권면적   건물면적 관리구분코드   층정보  건물주용도코드 건물주용도        물건금액  \\\n",
       "0       4   신고     1    0.0  59.92      2   5.0     2001   아파트   749000000   \n",
       "1       4   신고     1    0.0  84.77      2  18.0     2001   아파트  1200000000   \n",
       "2       4   신고     1    NaN  36.90      0   1.0     2001   아파트   105000000   \n",
       "\n",
       "     건축년도          건물명  \n",
       "0     0.0  래미안 장위포레카운티  \n",
       "1     0.0   롯데캐슬 클라시아   \n",
       "2  1994.0       궁전아트빌라  "
      ]
     },
     "execution_count": 32,
     "metadata": {},
     "output_type": "execute_result"
    }
   ],
   "source": [
    "import pandas as pd\n",
    "\n",
    "PROJECT_ROOT_DIR = \".\"\n",
    "FILE_PATH = os.path.join(PROJECT_ROOT_DIR, \"datasets\")\n",
    "\n",
    "def load_data(file_path=FILE_PATH):   \n",
    "    csv_path = os.path.join(file_path, \"real_estate.csv\")\n",
    "    return pd.read_csv(csv_path, encoding='cp949', low_memory=False)  # 한글깨짐 방지\n",
    "\n",
    "raw_df = load_data()\n",
    "raw_df.head(3)"
   ]
  },
  {
   "cell_type": "markdown",
   "id": "21da39a7",
   "metadata": {},
   "source": [
    "## 2. 데이터 구조 훑어보기"
   ]
  },
  {
   "cell_type": "code",
   "execution_count": 33,
   "id": "52a4677c",
   "metadata": {},
   "outputs": [
    {
     "name": "stdout",
     "output_type": "stream",
     "text": [
      "<class 'pandas.core.frame.DataFrame'>\n",
      "RangeIndex: 176001 entries, 0 to 176000\n",
      "Data columns (total 19 columns):\n",
      " #   Column   Non-Null Count   Dtype  \n",
      "---  ------   --------------   -----  \n",
      " 0   실거래가아이디  176001 non-null  object \n",
      " 1   지번코드     176001 non-null  object \n",
      " 2   시군구코드    176001 non-null  int64  \n",
      " 3   자치구명     176001 non-null  object \n",
      " 4   법정동코드    176001 non-null  int64  \n",
      " 5   법정동명     176001 non-null  object \n",
      " 6   신고년도     176001 non-null  int64  \n",
      " 7   업무구분코드   176001 non-null  int64  \n",
      " 8   업무구분     176001 non-null  object \n",
      " 9   물건번호     176001 non-null  int64  \n",
      " 10  대지권면적    89147 non-null   float64\n",
      " 11  건물면적     176001 non-null  float64\n",
      " 12  관리구분코드   176001 non-null  object \n",
      " 13  층정보      163838 non-null  float64\n",
      " 14  건물주용도코드  176001 non-null  int64  \n",
      " 15  건물주용도    176001 non-null  object \n",
      " 16  물건금액     176001 non-null  int64  \n",
      " 17  건축년도     175436 non-null  float64\n",
      " 18  건물명      163838 non-null  object \n",
      "dtypes: float64(4), int64(7), object(8)\n",
      "memory usage: 25.5+ MB\n"
     ]
    }
   ],
   "source": [
    "raw_df.info()"
   ]
  },
  {
   "cell_type": "code",
   "execution_count": 36,
   "id": "8feece18",
   "metadata": {},
   "outputs": [
    {
     "data": {
      "text/html": [
       "<div>\n",
       "<style scoped>\n",
       "    .dataframe tbody tr th:only-of-type {\n",
       "        vertical-align: middle;\n",
       "    }\n",
       "\n",
       "    .dataframe tbody tr th {\n",
       "        vertical-align: top;\n",
       "    }\n",
       "\n",
       "    .dataframe thead th {\n",
       "        text-align: right;\n",
       "    }\n",
       "</style>\n",
       "<table border=\"1\" class=\"dataframe\">\n",
       "  <thead>\n",
       "    <tr style=\"text-align: right;\">\n",
       "      <th></th>\n",
       "      <th>신고년도</th>\n",
       "      <th>대지권면적</th>\n",
       "      <th>건물면적</th>\n",
       "      <th>층정보</th>\n",
       "      <th>물건금액</th>\n",
       "      <th>건축년도</th>\n",
       "    </tr>\n",
       "  </thead>\n",
       "  <tbody>\n",
       "    <tr>\n",
       "      <th>count</th>\n",
       "      <td>176001.0</td>\n",
       "      <td>89147.000000</td>\n",
       "      <td>176001.000000</td>\n",
       "      <td>163838.000000</td>\n",
       "      <td>1.760010e+05</td>\n",
       "      <td>175436.000000</td>\n",
       "    </tr>\n",
       "    <tr>\n",
       "      <th>mean</th>\n",
       "      <td>2020.0</td>\n",
       "      <td>48.176158</td>\n",
       "      <td>71.489719</td>\n",
       "      <td>6.725540</td>\n",
       "      <td>6.283288e+08</td>\n",
       "      <td>1988.342336</td>\n",
       "    </tr>\n",
       "    <tr>\n",
       "      <th>std</th>\n",
       "      <td>0.0</td>\n",
       "      <td>58.385424</td>\n",
       "      <td>66.030144</td>\n",
       "      <td>5.754692</td>\n",
       "      <td>6.245526e+08</td>\n",
       "      <td>162.107028</td>\n",
       "    </tr>\n",
       "    <tr>\n",
       "      <th>min</th>\n",
       "      <td>2020.0</td>\n",
       "      <td>0.000000</td>\n",
       "      <td>5.070000</td>\n",
       "      <td>-3.000000</td>\n",
       "      <td>1.700000e+07</td>\n",
       "      <td>0.000000</td>\n",
       "    </tr>\n",
       "    <tr>\n",
       "      <th>25%</th>\n",
       "      <td>2020.0</td>\n",
       "      <td>23.020000</td>\n",
       "      <td>41.260000</td>\n",
       "      <td>3.000000</td>\n",
       "      <td>2.500000e+08</td>\n",
       "      <td>1993.000000</td>\n",
       "    </tr>\n",
       "    <tr>\n",
       "      <th>50%</th>\n",
       "      <td>2020.0</td>\n",
       "      <td>30.570000</td>\n",
       "      <td>59.760000</td>\n",
       "      <td>5.000000</td>\n",
       "      <td>4.480000e+08</td>\n",
       "      <td>2002.000000</td>\n",
       "    </tr>\n",
       "    <tr>\n",
       "      <th>75%</th>\n",
       "      <td>2020.0</td>\n",
       "      <td>45.500000</td>\n",
       "      <td>84.820000</td>\n",
       "      <td>10.000000</td>\n",
       "      <td>8.000000e+08</td>\n",
       "      <td>2011.000000</td>\n",
       "    </tr>\n",
       "    <tr>\n",
       "      <th>max</th>\n",
       "      <td>2020.0</td>\n",
       "      <td>6086.000000</td>\n",
       "      <td>2804.970000</td>\n",
       "      <td>67.000000</td>\n",
       "      <td>2.900000e+10</td>\n",
       "      <td>2021.000000</td>\n",
       "    </tr>\n",
       "  </tbody>\n",
       "</table>\n",
       "</div>"
      ],
      "text/plain": [
       "           신고년도         대지권면적           건물면적            층정보          물건금액  \\\n",
       "count  176001.0  89147.000000  176001.000000  163838.000000  1.760010e+05   \n",
       "mean     2020.0     48.176158      71.489719       6.725540  6.283288e+08   \n",
       "std         0.0     58.385424      66.030144       5.754692  6.245526e+08   \n",
       "min      2020.0      0.000000       5.070000      -3.000000  1.700000e+07   \n",
       "25%      2020.0     23.020000      41.260000       3.000000  2.500000e+08   \n",
       "50%      2020.0     30.570000      59.760000       5.000000  4.480000e+08   \n",
       "75%      2020.0     45.500000      84.820000      10.000000  8.000000e+08   \n",
       "max      2020.0   6086.000000    2804.970000      67.000000  2.900000e+10   \n",
       "\n",
       "                건축년도  \n",
       "count  175436.000000  \n",
       "mean     1988.342336  \n",
       "std       162.107028  \n",
       "min         0.000000  \n",
       "25%      1993.000000  \n",
       "50%      2002.000000  \n",
       "75%      2011.000000  \n",
       "max      2021.000000  "
      ]
     },
     "execution_count": 36,
     "metadata": {},
     "output_type": "execute_result"
    }
   ],
   "source": [
    "# 모든 숫자형 특성의 요약 정보\n",
    "raw_df[['신고년도','대지권면적','건물면적','층정보','물건금액','건축년도']].describe()"
   ]
  },
  {
   "cell_type": "code",
   "execution_count": 37,
   "id": "fedb0750",
   "metadata": {},
   "outputs": [
    {
     "name": "stdout",
     "output_type": "stream",
     "text": [
      "그림 저장:  attribute_histogram_plots\n"
     ]
    },
    {
     "data": {
      "image/png": "[encoded data removed]",
      "text/plain": [
       "<Figure size 1440x1080 with 6 Axes>"
      ]
     },
     "metadata": {
      "needs_background": "light"
     },
     "output_type": "display_data"
    }
   ],
   "source": [
    "# 모든 숫자형 특성의 히스토그램\n",
    "%matplotlib inline\n",
    "import matplotlib.pyplot as plt\n",
    "raw_df[['신고년도','대지권면적','건물면적','층정보','물건금액','건축년도']].hist(bins=50, figsize=(20,15))\n",
    "save_fig(\"attribute_histogram_plots\")\n",
    "plt.show()"
   ]
  },
  {
   "cell_type": "markdown",
   "id": "ccbd681a",
   "metadata": {},
   "source": [
    "## 3. 필요한 데이터만 추출"
   ]
  },
  {
   "cell_type": "code",
   "execution_count": 40,
   "id": "978761af",
   "metadata": {},
   "outputs": [
    {
     "name": "stdout",
     "output_type": "stream",
     "text": [
      "(176001, 7)\n"
     ]
    },
    {
     "data": {
      "text/html": [
       "<div>\n",
       "<style scoped>\n",
       "    .dataframe tbody tr th:only-of-type {\n",
       "        vertical-align: middle;\n",
       "    }\n",
       "\n",
       "    .dataframe tbody tr th {\n",
       "        vertical-align: top;\n",
       "    }\n",
       "\n",
       "    .dataframe thead th {\n",
       "        text-align: right;\n",
       "    }\n",
       "</style>\n",
       "<table border=\"1\" class=\"dataframe\">\n",
       "  <thead>\n",
       "    <tr style=\"text-align: right;\">\n",
       "      <th></th>\n",
       "      <th>자치구명</th>\n",
       "      <th>대지권면적</th>\n",
       "      <th>건물면적</th>\n",
       "      <th>층정보</th>\n",
       "      <th>건물주용도</th>\n",
       "      <th>건축년도</th>\n",
       "      <th>물건금액</th>\n",
       "    </tr>\n",
       "  </thead>\n",
       "  <tbody>\n",
       "    <tr>\n",
       "      <th>0</th>\n",
       "      <td>성북구</td>\n",
       "      <td>0.0</td>\n",
       "      <td>59.92</td>\n",
       "      <td>5.0</td>\n",
       "      <td>아파트</td>\n",
       "      <td>0.0</td>\n",
       "      <td>749000000</td>\n",
       "    </tr>\n",
       "    <tr>\n",
       "      <th>1</th>\n",
       "      <td>성북구</td>\n",
       "      <td>0.0</td>\n",
       "      <td>84.77</td>\n",
       "      <td>18.0</td>\n",
       "      <td>아파트</td>\n",
       "      <td>0.0</td>\n",
       "      <td>1200000000</td>\n",
       "    </tr>\n",
       "    <tr>\n",
       "      <th>2</th>\n",
       "      <td>구로구</td>\n",
       "      <td>NaN</td>\n",
       "      <td>36.90</td>\n",
       "      <td>1.0</td>\n",
       "      <td>아파트</td>\n",
       "      <td>1994.0</td>\n",
       "      <td>105000000</td>\n",
       "    </tr>\n",
       "    <tr>\n",
       "      <th>3</th>\n",
       "      <td>용산구</td>\n",
       "      <td>NaN</td>\n",
       "      <td>59.55</td>\n",
       "      <td>2.0</td>\n",
       "      <td>아파트</td>\n",
       "      <td>2001.0</td>\n",
       "      <td>830000000</td>\n",
       "    </tr>\n",
       "    <tr>\n",
       "      <th>4</th>\n",
       "      <td>용산구</td>\n",
       "      <td>NaN</td>\n",
       "      <td>64.43</td>\n",
       "      <td>5.0</td>\n",
       "      <td>아파트</td>\n",
       "      <td>1971.0</td>\n",
       "      <td>735000000</td>\n",
       "    </tr>\n",
       "  </tbody>\n",
       "</table>\n",
       "</div>"
      ],
      "text/plain": [
       "  자치구명  대지권면적   건물면적   층정보 건물주용도    건축년도        물건금액\n",
       "0  성북구    0.0  59.92   5.0   아파트     0.0   749000000\n",
       "1  성북구    0.0  84.77  18.0   아파트     0.0  1200000000\n",
       "2  구로구    NaN  36.90   1.0   아파트  1994.0   105000000\n",
       "3  용산구    NaN  59.55   2.0   아파트  2001.0   830000000\n",
       "4  용산구    NaN  64.43   5.0   아파트  1971.0   735000000"
      ]
     },
     "execution_count": 40,
     "metadata": {},
     "output_type": "execute_result"
    }
   ],
   "source": [
    "df = raw_df[['자치구명','대지권면적','건물면적','층정보','건물주용도','건축년도','물건금액']]\n",
    "print(df.shape)\n",
    "df.head()"
   ]
  },
  {
   "cell_type": "code",
   "execution_count": 42,
   "id": "27c55278",
   "metadata": {},
   "outputs": [
    {
     "name": "stdout",
     "output_type": "stream",
     "text": [
      "(174284, 7)\n"
     ]
    },
    {
     "data": {
      "text/html": [
       "<div>\n",
       "<style scoped>\n",
       "    .dataframe tbody tr th:only-of-type {\n",
       "        vertical-align: middle;\n",
       "    }\n",
       "\n",
       "    .dataframe tbody tr th {\n",
       "        vertical-align: top;\n",
       "    }\n",
       "\n",
       "    .dataframe thead th {\n",
       "        text-align: right;\n",
       "    }\n",
       "</style>\n",
       "<table border=\"1\" class=\"dataframe\">\n",
       "  <thead>\n",
       "    <tr style=\"text-align: right;\">\n",
       "      <th></th>\n",
       "      <th>자치구명</th>\n",
       "      <th>대지권면적</th>\n",
       "      <th>건물면적</th>\n",
       "      <th>층정보</th>\n",
       "      <th>건물주용도</th>\n",
       "      <th>건축년도</th>\n",
       "      <th>물건금액</th>\n",
       "    </tr>\n",
       "  </thead>\n",
       "  <tbody>\n",
       "    <tr>\n",
       "      <th>2</th>\n",
       "      <td>구로구</td>\n",
       "      <td>NaN</td>\n",
       "      <td>36.90</td>\n",
       "      <td>1.0</td>\n",
       "      <td>아파트</td>\n",
       "      <td>1994.0</td>\n",
       "      <td>105000000</td>\n",
       "    </tr>\n",
       "    <tr>\n",
       "      <th>3</th>\n",
       "      <td>용산구</td>\n",
       "      <td>NaN</td>\n",
       "      <td>59.55</td>\n",
       "      <td>2.0</td>\n",
       "      <td>아파트</td>\n",
       "      <td>2001.0</td>\n",
       "      <td>830000000</td>\n",
       "    </tr>\n",
       "    <tr>\n",
       "      <th>4</th>\n",
       "      <td>용산구</td>\n",
       "      <td>NaN</td>\n",
       "      <td>64.43</td>\n",
       "      <td>5.0</td>\n",
       "      <td>아파트</td>\n",
       "      <td>1971.0</td>\n",
       "      <td>735000000</td>\n",
       "    </tr>\n",
       "    <tr>\n",
       "      <th>5</th>\n",
       "      <td>용산구</td>\n",
       "      <td>NaN</td>\n",
       "      <td>105.75</td>\n",
       "      <td>9.0</td>\n",
       "      <td>아파트</td>\n",
       "      <td>1982.0</td>\n",
       "      <td>1430000000</td>\n",
       "    </tr>\n",
       "    <tr>\n",
       "      <th>6</th>\n",
       "      <td>용산구</td>\n",
       "      <td>43.9</td>\n",
       "      <td>73.04</td>\n",
       "      <td>3.0</td>\n",
       "      <td>연립주택</td>\n",
       "      <td>1993.0</td>\n",
       "      <td>400000000</td>\n",
       "    </tr>\n",
       "  </tbody>\n",
       "</table>\n",
       "</div>"
      ],
      "text/plain": [
       "  자치구명  대지권면적    건물면적  층정보 건물주용도    건축년도        물건금액\n",
       "2  구로구    NaN   36.90  1.0   아파트  1994.0   105000000\n",
       "3  용산구    NaN   59.55  2.0   아파트  2001.0   830000000\n",
       "4  용산구    NaN   64.43  5.0   아파트  1971.0   735000000\n",
       "5  용산구    NaN  105.75  9.0   아파트  1982.0  1430000000\n",
       "6  용산구   43.9   73.04  3.0  연립주택  1993.0   400000000"
      ]
     },
     "execution_count": 42,
     "metadata": {},
     "output_type": "execute_result"
    }
   ],
   "source": [
    "# 건축년도 Null과 0 값을 drop & 건물면적 Null값 drop\n",
    "\n",
    "df = df.dropna(subset=[\"건축년도\",\"건물면적\"], axis=0)\n",
    "df = df[df['건축년도']!=0]\n",
    "print(df.shape)\n",
    "df.head()"
   ]
  },
  {
   "cell_type": "code",
   "execution_count": 49,
   "id": "e6d33fdc",
   "metadata": {},
   "outputs": [],
   "source": [
    "# index reset\n",
    "df = df.reset_index()"
   ]
  },
  {
   "cell_type": "code",
   "execution_count": 50,
   "id": "57d4edef",
   "metadata": {},
   "outputs": [
    {
     "data": {
      "text/plain": [
       "index        0\n",
       "자치구명         0\n",
       "대지권면적    86854\n",
       "건물면적         0\n",
       "층정보      12157\n",
       "건물주용도        0\n",
       "건축년도         0\n",
       "물건금액         0\n",
       "dtype: int64"
      ]
     },
     "execution_count": 50,
     "metadata": {},
     "output_type": "execute_result"
    }
   ],
   "source": [
    "df.isnull().sum()"
   ]
  },
  {
   "cell_type": "markdown",
   "id": "fcce0007",
   "metadata": {},
   "source": [
    "## 4. 훈련 & 테스트셋 분리\n",
    "- 계층적 추출 방법 사용\n",
    "- corr 확인 결과 건물면적이 중요한 feature라고 판단\n",
    "- 건물면적 카테고리를 기반으로 샘플링"
   ]
  },
  {
   "cell_type": "code",
   "execution_count": 51,
   "id": "cd2404b6",
   "metadata": {},
   "outputs": [
    {
     "data": {
      "text/plain": [
       "<AxesSubplot:>"
      ]
     },
     "execution_count": 51,
     "metadata": {},
     "output_type": "execute_result"
    },
    {
     "data": {
      "image/png": "[encoded data removed]",
      "text/plain": [
       "<Figure size 432x288 with 1 Axes>"
      ]
     },
     "metadata": {
      "needs_background": "light"
     },
     "output_type": "display_data"
    }
   ],
   "source": [
    "df[\"건물면적\"].hist()"
   ]
  },
  {
   "cell_type": "code",
   "execution_count": 52,
   "id": "5806cb43",
   "metadata": {},
   "outputs": [
    {
     "data": {
      "text/plain": [
       "<AxesSubplot:>"
      ]
     },
     "execution_count": 52,
     "metadata": {},
     "output_type": "execute_result"
    },
    {
     "data": {
      "image/png": "[encoded data removed]",
      "text/plain": [
       "<Figure size 432x288 with 1 Axes>"
      ]
     },
     "metadata": {
      "needs_background": "light"
     },
     "output_type": "display_data"
    }
   ],
   "source": [
    "df[\"건물면적\"].hist(range=(0.0,300), bins=10)"
   ]
  },
  {
   "cell_type": "code",
   "execution_count": 55,
   "id": "7789198c",
   "metadata": {},
   "outputs": [
    {
     "data": {
      "text/plain": [
       "<AxesSubplot:>"
      ]
     },
     "execution_count": 55,
     "metadata": {},
     "output_type": "execute_result"
    },
    {
     "data": {
      "image/png": "[encoded data removed]",
      "text/plain": [
       "<Figure size 432x288 with 1 Axes>"
      ]
     },
     "metadata": {
      "needs_background": "light"
     },
     "output_type": "display_data"
    }
   ],
   "source": [
    "df[\"건물면적\"].hist(bins = [0.0, 20, 40, 60, 80, 100, 120, np.inf])"
   ]
  },
  {
   "cell_type": "code",
   "execution_count": 66,
   "id": "16ddd05e",
   "metadata": {},
   "outputs": [
    {
     "data": {
      "text/html": [
       "<div>\n",
       "<style scoped>\n",
       "    .dataframe tbody tr th:only-of-type {\n",
       "        vertical-align: middle;\n",
       "    }\n",
       "\n",
       "    .dataframe tbody tr th {\n",
       "        vertical-align: top;\n",
       "    }\n",
       "\n",
       "    .dataframe thead th {\n",
       "        text-align: right;\n",
       "    }\n",
       "</style>\n",
       "<table border=\"1\" class=\"dataframe\">\n",
       "  <thead>\n",
       "    <tr style=\"text-align: right;\">\n",
       "      <th></th>\n",
       "      <th>index</th>\n",
       "      <th>자치구명</th>\n",
       "      <th>대지권면적</th>\n",
       "      <th>건물면적</th>\n",
       "      <th>층정보</th>\n",
       "      <th>건물주용도</th>\n",
       "      <th>건축년도</th>\n",
       "      <th>물건금액</th>\n",
       "    </tr>\n",
       "  </thead>\n",
       "  <tbody>\n",
       "    <tr>\n",
       "      <th>32369</th>\n",
       "      <td>32643</td>\n",
       "      <td>서초구</td>\n",
       "      <td>NaN</td>\n",
       "      <td>19.99</td>\n",
       "      <td>6.0</td>\n",
       "      <td>아파트</td>\n",
       "      <td>2013.0</td>\n",
       "      <td>250000000</td>\n",
       "    </tr>\n",
       "    <tr>\n",
       "      <th>120080</th>\n",
       "      <td>121153</td>\n",
       "      <td>서대문구</td>\n",
       "      <td>NaN</td>\n",
       "      <td>114.83</td>\n",
       "      <td>8.0</td>\n",
       "      <td>아파트</td>\n",
       "      <td>2009.0</td>\n",
       "      <td>750000000</td>\n",
       "    </tr>\n",
       "    <tr>\n",
       "      <th>7570</th>\n",
       "      <td>7627</td>\n",
       "      <td>영등포구</td>\n",
       "      <td>NaN</td>\n",
       "      <td>49.64</td>\n",
       "      <td>14.0</td>\n",
       "      <td>아파트</td>\n",
       "      <td>1986.0</td>\n",
       "      <td>630000000</td>\n",
       "    </tr>\n",
       "  </tbody>\n",
       "</table>\n",
       "</div>"
      ],
      "text/plain": [
       "         index  자치구명  대지권면적    건물면적   층정보 건물주용도    건축년도       물건금액\n",
       "32369    32643   서초구    NaN   19.99   6.0   아파트  2013.0  250000000\n",
       "120080  121153  서대문구    NaN  114.83   8.0   아파트  2009.0  750000000\n",
       "7570      7627  영등포구    NaN   49.64  14.0   아파트  1986.0  630000000"
      ]
     },
     "execution_count": 66,
     "metadata": {},
     "output_type": "execute_result"
    }
   ],
   "source": [
    "# 계층적 추출 방법\n",
    "from sklearn.model_selection import StratifiedShuffleSplit  \n",
    "\n",
    "def split_train_test_by_str(data, test_ratio, num_splits=10):\n",
    "    split = StratifiedShuffleSplit(n_splits=num_splits, test_size=test_ratio, random_state=42)     \n",
    "\n",
    "    target_str = pd.cut(data[\"건물면적\"],\n",
    "                        bins = [0.0, 20, 40,60, 80, 100, 120, np.inf],  \n",
    "                        labels = [1,2,3,4,5,6,7])\n",
    "\n",
    "    for str_train_index, str_test_index in split.split(data, target_str):  \n",
    "        str_train_set = data.loc[str_train_index]\n",
    "        str_test_set = data.loc[str_test_index]  \n",
    "    return str_train_set, str_test_set\n",
    "\n",
    "# train_set, test 생성\n",
    "train_set, test_set = split_train_test_by_str(df, 0.2, 1)\n",
    "train_set.head(3)"
   ]
  },
  {
   "cell_type": "code",
   "execution_count": 68,
   "id": "02e34598",
   "metadata": {},
   "outputs": [],
   "source": [
    "housing_train = train_set.copy()\n",
    "housing_test = test_set.copy()"
   ]
  },
  {
   "cell_type": "code",
   "execution_count": 69,
   "id": "80225dad",
   "metadata": {},
   "outputs": [
    {
     "data": {
      "text/html": [
       "<div>\n",
       "<style scoped>\n",
       "    .dataframe tbody tr th:only-of-type {\n",
       "        vertical-align: middle;\n",
       "    }\n",
       "\n",
       "    .dataframe tbody tr th {\n",
       "        vertical-align: top;\n",
       "    }\n",
       "\n",
       "    .dataframe thead th {\n",
       "        text-align: right;\n",
       "    }\n",
       "</style>\n",
       "<table border=\"1\" class=\"dataframe\">\n",
       "  <thead>\n",
       "    <tr style=\"text-align: right;\">\n",
       "      <th></th>\n",
       "      <th>자치구명</th>\n",
       "      <th>대지권면적</th>\n",
       "      <th>건물면적</th>\n",
       "      <th>층정보</th>\n",
       "      <th>건물주용도</th>\n",
       "      <th>건축년도</th>\n",
       "      <th>물건금액</th>\n",
       "    </tr>\n",
       "  </thead>\n",
       "  <tbody>\n",
       "    <tr>\n",
       "      <th>32369</th>\n",
       "      <td>서초구</td>\n",
       "      <td>NaN</td>\n",
       "      <td>19.99</td>\n",
       "      <td>6.0</td>\n",
       "      <td>아파트</td>\n",
       "      <td>2013.0</td>\n",
       "      <td>250000000</td>\n",
       "    </tr>\n",
       "    <tr>\n",
       "      <th>120080</th>\n",
       "      <td>서대문구</td>\n",
       "      <td>NaN</td>\n",
       "      <td>114.83</td>\n",
       "      <td>8.0</td>\n",
       "      <td>아파트</td>\n",
       "      <td>2009.0</td>\n",
       "      <td>750000000</td>\n",
       "    </tr>\n",
       "    <tr>\n",
       "      <th>7570</th>\n",
       "      <td>영등포구</td>\n",
       "      <td>NaN</td>\n",
       "      <td>49.64</td>\n",
       "      <td>14.0</td>\n",
       "      <td>아파트</td>\n",
       "      <td>1986.0</td>\n",
       "      <td>630000000</td>\n",
       "    </tr>\n",
       "  </tbody>\n",
       "</table>\n",
       "</div>"
      ],
      "text/plain": [
       "        자치구명  대지권면적    건물면적   층정보 건물주용도    건축년도       물건금액\n",
       "32369    서초구    NaN   19.99   6.0   아파트  2013.0  250000000\n",
       "120080  서대문구    NaN  114.83   8.0   아파트  2009.0  750000000\n",
       "7570    영등포구    NaN   49.64  14.0   아파트  1986.0  630000000"
      ]
     },
     "execution_count": 69,
     "metadata": {},
     "output_type": "execute_result"
    }
   ],
   "source": [
    "housing_train = housing_train.drop(\"index\", axis=1)\n",
    "housing_test = housing_test.drop(\"index\", axis=1)\n",
    "housing_train.head(3)"
   ]
  },
  {
   "cell_type": "markdown",
   "id": "a89b80d1",
   "metadata": {},
   "source": [
    "## 5. 데이터 이해하기\n"
   ]
  },
  {
   "cell_type": "code",
   "execution_count": 70,
   "id": "bd8e3bdf",
   "metadata": {
    "scrolled": false
   },
   "outputs": [
    {
     "data": {
      "image/png": "[encoded data removed]",
      "text/plain": [
       "<Figure size 1440x1080 with 6 Axes>"
      ]
     },
     "metadata": {
      "needs_background": "light"
     },
     "output_type": "display_data"
    }
   ],
   "source": [
    "# 변수들로 histogram 그려보기\n",
    "%matplotlib inline\n",
    "import matplotlib.pyplot as plt\n",
    "housing_train.hist(bins=50, figsize=(20,15))\n",
    "plt.show()"
   ]
  },
  {
   "cell_type": "code",
   "execution_count": 72,
   "id": "55c9761a",
   "metadata": {},
   "outputs": [
    {
     "name": "stdout",
     "output_type": "stream",
     "text": [
      "그림 저장:  scatter_matrix_plot\n"
     ]
    },
    {
     "data": {
      "image/png": "[encoded data removed]",
      "text/plain": [
       "<Figure size 864x576 with 25 Axes>"
      ]
     },
     "metadata": {
      "needs_background": "light"
     },
     "output_type": "display_data"
    }
   ],
   "source": [
    "# scatter plot\n",
    "from pandas.plotting import scatter_matrix\n",
    "\n",
    "scatter_matrix(housing_train, figsize=(12,8))\n",
    "save_fig(\"scatter_matrix_plot\")"
   ]
  },
  {
   "cell_type": "markdown",
   "id": "18df8cf9",
   "metadata": {},
   "source": [
    "## 6. 학습을 위한 데이터 준비\n",
    "- 데이터 파이프라인 준비\n",
    "- 연속형 파이프라인\n",
    "    - 파이프라인에 추가할 전처리 아이디어:\n",
    "        - standard scaler\n",
    "        - 연식 변수 추가\n",
    "- 범주형 파이프라인\n",
    "    - 자치구명, 건물주용도\n",
    "    "
   ]
  },
  {
   "cell_type": "code",
   "execution_count": 73,
   "id": "9ec86d5e",
   "metadata": {},
   "outputs": [],
   "source": [
    "housing_train_X = housing_train.drop(\"물건금액\", axis=1)\n",
    "housing_train_y = housing_train[\"물건금액\"].copy()"
   ]
  },
  {
   "cell_type": "markdown",
   "id": "f5d1dd88",
   "metadata": {},
   "source": [
    "###  1) 연속형 파이프라인\n"
   ]
  },
  {
   "cell_type": "code",
   "execution_count": 79,
   "id": "73210520",
   "metadata": {},
   "outputs": [],
   "source": [
    "# 선택한 컬럼만 가져오기\n",
    "from sklearn.base import BaseEstimator, TransformerMixin\n",
    "\n",
    "class DataFrameSelector(BaseEstimator, TransformerMixin):\n",
    "    def __init__(self, attribute_names):\n",
    "        self.attribute_names = attribute_names\n",
    "    def fit(self, X, y=None):\n",
    "        return self\n",
    "    def transform(self, X):\n",
    "        return X[self.attribute_names].values"
   ]
  },
  {
   "cell_type": "code",
   "execution_count": 82,
   "id": "aabf180a",
   "metadata": {},
   "outputs": [],
   "source": [
    "# 대지권면적, 층정보의 null 채워주기\n",
    "from numpy import nan as NA \n",
    "\n",
    "land_area_ix, floor_ix = 0, 2  # 대지권면적, 층정보\n",
    "\n",
    "class FillNullValue(BaseEstimator, TransformerMixin):\n",
    "    def fit(self, X, y=None):\n",
    "        return self  # nothing else to do\n",
    "    def transform(self, X, y=None):\n",
    "        for i in range(len(X)):\n",
    "            if np.isnan(X[i,land_area_ix])==True:  # 대지권면적 0으로\n",
    "                X[i,land_area_ix] = 0\n",
    "            if np.isnan(X[i, floor_ix])==True:  # 층정보 1로\n",
    "                 X[i, floor_ix] = 1\n",
    "        return X"
   ]
  },
  {
   "cell_type": "code",
   "execution_count": 83,
   "id": "d0e1474b",
   "metadata": {},
   "outputs": [],
   "source": [
    "# 특성을 자동으로 추가해 주는 클래스 만들기 - 연식\n",
    "# 건축년도 삭제후 건축년도 자리에 붙임\n",
    "\n",
    "from sklearn.base import BaseEstimator, TransformerMixin\n",
    "\n",
    "yr_built_ix = 3  # 건축년도 column\n",
    "\n",
    "class CombinedAttributesAdder(BaseEstimator, TransformerMixin):\n",
    "    def __init__(self, h_age = True): \n",
    "        self.h_age = h_age\n",
    "    def fit(self, X, y=None):\n",
    "        return self  # nothing else to do\n",
    "    def transform(self, X, y=None):\n",
    "        h_age = np.zeros(len(X))\n",
    "       \n",
    "        for i in range(len(X)):\n",
    "            h_age[i] = datetime.today().year - X[i, yr_built_ix]\n",
    "        \n",
    "        return np.concatenate((np.delete(X, 3, axis=1), h_age.astype(int)[:,None]), axis=1)  # 3번째 인덱스 값 삭제 -> 건축년도"
   ]
  },
  {
   "cell_type": "code",
   "execution_count": 88,
   "id": "b8585fff",
   "metadata": {},
   "outputs": [],
   "source": [
    "from sklearn.pipeline import Pipeline\n",
    "from sklearn.preprocessing import StandardScaler, MinMaxScaler\n",
    "from datetime import datetime\n",
    "\n",
    "num_attribs = list(housing_train_X.drop([\"자치구명\",\"건물주용도\"], axis=1)) # categorical 변수 제외\n",
    "\n",
    "num_pipeline = Pipeline([\n",
    "        ('selector', DataFrameSelector(num_attribs)),\n",
    "        ('fill_na', FillNullValue()),\n",
    "        ('attribs_adder', CombinedAttributesAdder()),\n",
    "        ('std_scaler', StandardScaler())\n",
    "    ])\n",
    "\n",
    "housing_num_tr = num_pipeline.fit_transform(housing_train_X)"
   ]
  },
  {
   "cell_type": "code",
   "execution_count": 89,
   "id": "a975e766",
   "metadata": {},
   "outputs": [
    {
     "name": "stdout",
     "output_type": "stream",
     "text": [
      "(139427, 4)\n"
     ]
    },
    {
     "data": {
      "text/plain": [
       "array([[-0.53713073, -0.77703685, -0.04836741, -0.94842847],\n",
       "       [-0.53713073,  0.65017282,  0.302795  , -0.61914234],\n",
       "       [-0.53713073, -0.33084572,  1.35628222,  1.27425292],\n",
       "       ...,\n",
       "       [ 0.33246967, -0.05666014, -0.75069222, -0.0428916 ],\n",
       "       [ 0.20395838, -0.42339464, -0.92627343,  0.86264526],\n",
       "       [-0.53713073, -0.18457328, -0.57511102, -0.61914234]])"
      ]
     },
     "execution_count": 89,
     "metadata": {},
     "output_type": "execute_result"
    }
   ],
   "source": [
    "print(housing_num_tr.shape)\n",
    "housing_num_tr"
   ]
  },
  {
   "cell_type": "markdown",
   "id": "67207e31",
   "metadata": {},
   "source": [
    "### 2) 전체 파이프라인\n",
    "- 범주형 파이프라인 추가 (OneHotEncoder)"
   ]
  },
  {
   "cell_type": "code",
   "execution_count": 90,
   "id": "f146efd4",
   "metadata": {},
   "outputs": [
    {
     "name": "stdout",
     "output_type": "stream",
     "text": [
      "(139427, 33)\n"
     ]
    },
    {
     "data": {
      "text/plain": [
       "array([[-0.53713073, -0.77703685, -0.04836741, ...,  0.        ,\n",
       "         0.        ,  0.        ],\n",
       "       [-0.53713073,  0.65017282,  0.302795  , ...,  0.        ,\n",
       "         0.        ,  0.        ],\n",
       "       [-0.53713073, -0.33084572,  1.35628222, ...,  0.        ,\n",
       "         0.        ,  0.        ],\n",
       "       ...,\n",
       "       [ 0.33246967, -0.05666014, -0.75069222, ...,  0.        ,\n",
       "         0.        ,  0.        ],\n",
       "       [ 0.20395838, -0.42339464, -0.92627343, ...,  0.        ,\n",
       "         0.        ,  0.        ],\n",
       "       [-0.53713073, -0.18457328, -0.57511102, ...,  0.        ,\n",
       "         0.        ,  0.        ]])"
      ]
     },
     "execution_count": 90,
     "metadata": {},
     "output_type": "execute_result"
    }
   ],
   "source": [
    "from sklearn.compose import ColumnTransformer  # 원래 만들어진 pipeline에 추가하기 위한 모듈\n",
    "from sklearn.preprocessing import OneHotEncoder\n",
    "\n",
    "num_attribs = list(housing_train_X)\n",
    "cat_attribs = ['건물주용도','자치구명']\n",
    "\n",
    "full_pipeline = ColumnTransformer([\n",
    "    (\"num\", num_pipeline, num_attribs),\n",
    "    (\"cat\", OneHotEncoder(categories='auto', sparse=False), cat_attribs),  # OneHotEncoder  # drop='first'\n",
    "])\n",
    "\n",
    "housing_prepared = full_pipeline.fit_transform(housing_train_X)\n",
    "print(housing_prepared.shape)\n",
    "housing_prepared"
   ]
  },
  {
   "cell_type": "code",
   "execution_count": 91,
   "id": "67e571a9",
   "metadata": {},
   "outputs": [
    {
     "data": {
      "text/plain": [
       "array([-0.53713073,  0.06794231,  0.6539574 ,  0.12175146,  0.        ,\n",
       "        1.        ,  0.        ,  0.        ,  0.        ,  0.        ,\n",
       "        0.        ,  0.        ,  0.        ,  0.        ,  0.        ,\n",
       "        0.        ,  0.        ,  0.        ,  0.        ,  0.        ,\n",
       "        0.        ,  0.        ,  0.        ,  0.        ,  0.        ,\n",
       "        0.        ,  0.        ,  0.        ,  0.        ,  0.        ,\n",
       "        0.        ,  0.        ,  1.        ])"
      ]
     },
     "execution_count": 91,
     "metadata": {},
     "output_type": "execute_result"
    }
   ],
   "source": [
    "housing_prepared[30]  # 단독주택 0 아파트 1 연립주택 2 오피스텔 3"
   ]
  },
  {
   "cell_type": "code",
   "execution_count": 92,
   "id": "c80e1faa",
   "metadata": {},
   "outputs": [
    {
     "name": "stdout",
     "output_type": "stream",
     "text": [
      "['아파트' '아파트' '아파트' ... '연립주택' '연립주택' '아파트']\n",
      "Index(['강서구', '은평구', '노원구', '송파구', '구로구', '양천구', '강동구', '성북구', '도봉구', '강북구',\n",
      "       '영등포구', '마포구', '강남구', '중랑구', '서초구', '관악구', '동작구', '동대문구', '서대문구', '금천구',\n",
      "       '광진구', '성동구', '용산구', '종로구', '중구'],\n",
      "      dtype='object')\n"
     ]
    }
   ],
   "source": [
    "print( housing_train_X['건물주용도'].values)   # 4개\n",
    "print( housing_train_X['자치구명'].value_counts().index )  # 25개"
   ]
  },
  {
   "cell_type": "code",
   "execution_count": 31,
   "id": "c491b514",
   "metadata": {},
   "outputs": [
    {
     "data": {
      "text/html": [
       "<div>\n",
       "<style scoped>\n",
       "    .dataframe tbody tr th:only-of-type {\n",
       "        vertical-align: middle;\n",
       "    }\n",
       "\n",
       "    .dataframe tbody tr th {\n",
       "        vertical-align: top;\n",
       "    }\n",
       "\n",
       "    .dataframe thead th {\n",
       "        text-align: right;\n",
       "    }\n",
       "</style>\n",
       "<table border=\"1\" class=\"dataframe\">\n",
       "  <thead>\n",
       "    <tr style=\"text-align: right;\">\n",
       "      <th></th>\n",
       "      <th>대지권면적</th>\n",
       "      <th>건물면적</th>\n",
       "      <th>층정보</th>\n",
       "      <th>건축년도</th>\n",
       "      <th>단독주택</th>\n",
       "      <th>아파트</th>\n",
       "      <th>연립주택</th>\n",
       "      <th>오피스텔</th>\n",
       "      <th>강남구</th>\n",
       "      <th>강동구</th>\n",
       "      <th>...</th>\n",
       "      <th>성동구</th>\n",
       "      <th>성북구</th>\n",
       "      <th>송파구</th>\n",
       "      <th>양천구</th>\n",
       "      <th>영등포구</th>\n",
       "      <th>용산구</th>\n",
       "      <th>은평구</th>\n",
       "      <th>종로구</th>\n",
       "      <th>중구</th>\n",
       "      <th>중랑구</th>\n",
       "    </tr>\n",
       "  </thead>\n",
       "  <tbody>\n",
       "    <tr>\n",
       "      <th>0</th>\n",
       "      <td>-0.028875</td>\n",
       "      <td>-0.493693</td>\n",
       "      <td>-0.750397</td>\n",
       "      <td>-1.113700</td>\n",
       "      <td>0.0</td>\n",
       "      <td>0.0</td>\n",
       "      <td>1.0</td>\n",
       "      <td>0.0</td>\n",
       "      <td>0.0</td>\n",
       "      <td>0.0</td>\n",
       "      <td>...</td>\n",
       "      <td>0.0</td>\n",
       "      <td>0.0</td>\n",
       "      <td>0.0</td>\n",
       "      <td>0.0</td>\n",
       "      <td>0.0</td>\n",
       "      <td>0.0</td>\n",
       "      <td>0.0</td>\n",
       "      <td>0.0</td>\n",
       "      <td>1.0</td>\n",
       "      <td>0.0</td>\n",
       "    </tr>\n",
       "    <tr>\n",
       "      <th>1</th>\n",
       "      <td>-0.533760</td>\n",
       "      <td>0.198981</td>\n",
       "      <td>-0.750397</td>\n",
       "      <td>-0.125286</td>\n",
       "      <td>0.0</td>\n",
       "      <td>1.0</td>\n",
       "      <td>0.0</td>\n",
       "      <td>0.0</td>\n",
       "      <td>0.0</td>\n",
       "      <td>0.0</td>\n",
       "      <td>...</td>\n",
       "      <td>0.0</td>\n",
       "      <td>0.0</td>\n",
       "      <td>0.0</td>\n",
       "      <td>0.0</td>\n",
       "      <td>0.0</td>\n",
       "      <td>0.0</td>\n",
       "      <td>0.0</td>\n",
       "      <td>0.0</td>\n",
       "      <td>0.0</td>\n",
       "      <td>0.0</td>\n",
       "    </tr>\n",
       "    <tr>\n",
       "      <th>2</th>\n",
       "      <td>-0.140247</td>\n",
       "      <td>-0.631500</td>\n",
       "      <td>-0.223335</td>\n",
       "      <td>-1.360804</td>\n",
       "      <td>0.0</td>\n",
       "      <td>0.0</td>\n",
       "      <td>1.0</td>\n",
       "      <td>0.0</td>\n",
       "      <td>0.0</td>\n",
       "      <td>0.0</td>\n",
       "      <td>...</td>\n",
       "      <td>0.0</td>\n",
       "      <td>0.0</td>\n",
       "      <td>0.0</td>\n",
       "      <td>0.0</td>\n",
       "      <td>0.0</td>\n",
       "      <td>1.0</td>\n",
       "      <td>0.0</td>\n",
       "      <td>0.0</td>\n",
       "      <td>0.0</td>\n",
       "      <td>0.0</td>\n",
       "    </tr>\n",
       "    <tr>\n",
       "      <th>3</th>\n",
       "      <td>0.073762</td>\n",
       "      <td>-0.785984</td>\n",
       "      <td>-0.047648</td>\n",
       "      <td>-1.031332</td>\n",
       "      <td>0.0</td>\n",
       "      <td>0.0</td>\n",
       "      <td>0.0</td>\n",
       "      <td>1.0</td>\n",
       "      <td>0.0</td>\n",
       "      <td>0.0</td>\n",
       "      <td>...</td>\n",
       "      <td>0.0</td>\n",
       "      <td>0.0</td>\n",
       "      <td>0.0</td>\n",
       "      <td>0.0</td>\n",
       "      <td>0.0</td>\n",
       "      <td>0.0</td>\n",
       "      <td>0.0</td>\n",
       "      <td>0.0</td>\n",
       "      <td>0.0</td>\n",
       "      <td>0.0</td>\n",
       "    </tr>\n",
       "    <tr>\n",
       "      <th>4</th>\n",
       "      <td>-0.199863</td>\n",
       "      <td>-0.631349</td>\n",
       "      <td>-0.574710</td>\n",
       "      <td>-0.866597</td>\n",
       "      <td>0.0</td>\n",
       "      <td>0.0</td>\n",
       "      <td>1.0</td>\n",
       "      <td>0.0</td>\n",
       "      <td>0.0</td>\n",
       "      <td>0.0</td>\n",
       "      <td>...</td>\n",
       "      <td>1.0</td>\n",
       "      <td>0.0</td>\n",
       "      <td>0.0</td>\n",
       "      <td>0.0</td>\n",
       "      <td>0.0</td>\n",
       "      <td>0.0</td>\n",
       "      <td>0.0</td>\n",
       "      <td>0.0</td>\n",
       "      <td>0.0</td>\n",
       "      <td>0.0</td>\n",
       "    </tr>\n",
       "  </tbody>\n",
       "</table>\n",
       "<p>5 rows × 33 columns</p>\n",
       "</div>"
      ],
      "text/plain": [
       "      대지권면적      건물면적       층정보      건축년도  단독주택  아파트  연립주택  오피스텔  강남구  강동구  \\\n",
       "0 -0.028875 -0.493693 -0.750397 -1.113700   0.0  0.0   1.0   0.0  0.0  0.0   \n",
       "1 -0.533760  0.198981 -0.750397 -0.125286   0.0  1.0   0.0   0.0  0.0  0.0   \n",
       "2 -0.140247 -0.631500 -0.223335 -1.360804   0.0  0.0   1.0   0.0  0.0  0.0   \n",
       "3  0.073762 -0.785984 -0.047648 -1.031332   0.0  0.0   0.0   1.0  0.0  0.0   \n",
       "4 -0.199863 -0.631349 -0.574710 -0.866597   0.0  0.0   1.0   0.0  0.0  0.0   \n",
       "\n",
       "   ...  성동구  성북구  송파구  양천구  영등포구  용산구  은평구  종로구   중구  중랑구  \n",
       "0  ...  0.0  0.0  0.0  0.0   0.0  0.0  0.0  0.0  1.0  0.0  \n",
       "1  ...  0.0  0.0  0.0  0.0   0.0  0.0  0.0  0.0  0.0  0.0  \n",
       "2  ...  0.0  0.0  0.0  0.0   0.0  1.0  0.0  0.0  0.0  0.0  \n",
       "3  ...  0.0  0.0  0.0  0.0   0.0  0.0  0.0  0.0  0.0  0.0  \n",
       "4  ...  1.0  0.0  0.0  0.0   0.0  0.0  0.0  0.0  0.0  0.0  \n",
       "\n",
       "[5 rows x 33 columns]"
      ]
     },
     "execution_count": 31,
     "metadata": {},
     "output_type": "execute_result"
    }
   ],
   "source": [
    "housing_train_X_df = pd.DataFrame(\n",
    "    housing_prepared, \n",
    "    columns = ['대지권면적', '건물면적', '층정보','건축년도', \n",
    "               '단독주택','아파트','연립주택','오피스텔',\n",
    "               '강남구','강동구','강북구','강서구','관악구','광진구','구로구','금천구','노원구','도봉구',\n",
    "               '동대문구','동작구','마포구','서대문구','서초구','성동구','성북구','송파구','양천구','영등포구',\n",
    "               '용산구','은평구','종로구','중구','중랑구']\n",
    "    )\n",
    "housing_train_X_df.head()"
   ]
  },
  {
   "cell_type": "markdown",
   "id": "def2f956",
   "metadata": {},
   "source": [
    "--------"
   ]
  },
  {
   "cell_type": "markdown",
   "id": "d4661bf8",
   "metadata": {},
   "source": [
    "## 7. 모델 선택과 학습\n",
    " - train 데이터 학습, 같은 데이터로 평가"
   ]
  },
  {
   "cell_type": "code",
   "execution_count": null,
   "id": "99a5d916",
   "metadata": {},
   "outputs": [],
   "source": [
    "# 변수명 변경\n",
    "housing_labels = housing_train_y\n",
    "strat_test_set = housing_test\n",
    "#strat_test_set = strat_test_set.drop(\"index\", axis=1)"
   ]
  },
  {
   "cell_type": "markdown",
   "id": "4af022e2",
   "metadata": {},
   "source": [
    "### 1) LinearRegression"
   ]
  },
  {
   "cell_type": "code",
   "execution_count": 97,
   "id": "bfddc79a",
   "metadata": {},
   "outputs": [
    {
     "data": {
      "text/plain": [
       "362956411.48307073"
      ]
     },
     "execution_count": 97,
     "metadata": {},
     "output_type": "execute_result"
    }
   ],
   "source": [
    "from sklearn.linear_model import LinearRegression\n",
    "from sklearn.metrics import mean_squared_error\n",
    "\n",
    "# 학습될 모델 생성\n",
    "lin_reg = LinearRegression()\n",
    "lin_reg.fit(housing_prepared, housing_labels) \n",
    "\n",
    "# 학습\n",
    "housing_predictions = lin_reg.predict(housing_prepared)\n",
    "\n",
    "# 평가\n",
    "lin_mse = mean_squared_error(housing_labels, housing_predictions)\n",
    "lin_rmse = np.sqrt(lin_mse)\n",
    "lin_rmse "
   ]
  },
  {
   "cell_type": "markdown",
   "id": "32fd9e1b",
   "metadata": {},
   "source": [
    "### 2) DecisionTreeRegressor"
   ]
  },
  {
   "cell_type": "code",
   "execution_count": 99,
   "id": "8d9e56cb",
   "metadata": {},
   "outputs": [
    {
     "data": {
      "text/plain": [
       "31605326.764265783"
      ]
     },
     "execution_count": 99,
     "metadata": {},
     "output_type": "execute_result"
    }
   ],
   "source": [
    "from sklearn.tree import DecisionTreeRegressor\n",
    "\n",
    "tree_reg = DecisionTreeRegressor(random_state=42)\n",
    "tree_reg.fit(housing_prepared, housing_labels)\n",
    "\n",
    "housing_predictions = tree_reg.predict(housing_prepared)   # 모델에 사용된 train 데이터로 평가\n",
    "tree_mse = mean_squared_error(housing_labels, housing_predictions)\n",
    "tree_rmse = np.sqrt(tree_mse)\n",
    "tree_rmse"
   ]
  },
  {
   "cell_type": "markdown",
   "id": "04bb1d9a",
   "metadata": {},
   "source": [
    "### +) 교차검증을 사용한 평가"
   ]
  },
  {
   "cell_type": "code",
   "execution_count": 100,
   "id": "184e9e33",
   "metadata": {},
   "outputs": [],
   "source": [
    "from sklearn.model_selection import cross_val_score\n",
    "scores = cross_val_score(tree_reg, housing_prepared, housing_labels,\n",
    "                        scoring = \"neg_mean_squared_error\", cv=10)  \n",
    "\n",
    "tree_rmse_scores = np.sqrt(-scores) # scores: 평균 점수 계산한 값"
   ]
  },
  {
   "cell_type": "code",
   "execution_count": 101,
   "id": "46483fc6",
   "metadata": {},
   "outputs": [
    {
     "name": "stdout",
     "output_type": "stream",
     "text": [
      "점수: [2.94835368e+08 3.02155273e+08 2.98934373e+08 3.15900139e+08\n",
      " 2.77580550e+08 2.56008903e+08 2.85899501e+08 2.67088870e+08\n",
      " 2.86523410e+08 2.67402001e+08]\n",
      "평균: 285232838.8363912\n",
      "표준편차: 17517536.965082683\n"
     ]
    }
   ],
   "source": [
    "def display_scores(scores):\n",
    "    print(\"점수:\", scores)\n",
    "    print(\"평균:\", scores.mean())\n",
    "    print(\"표준편차:\", scores.std())\n",
    "    \n",
    "display_scores(tree_rmse_scores)"
   ]
  },
  {
   "cell_type": "code",
   "execution_count": 102,
   "id": "8a16f7f0",
   "metadata": {},
   "outputs": [
    {
     "name": "stdout",
     "output_type": "stream",
     "text": [
      "점수: [3.66203898e+08 3.64891580e+08 3.62601813e+08 3.63549314e+08\n",
      " 3.61314815e+08 3.65890882e+08 3.82902258e+08 3.72915823e+08\n",
      " 3.56953645e+08 3.35420523e+08]\n",
      "평균: 363264455.05827296\n",
      "표준편차: 11473492.834490571\n"
     ]
    }
   ],
   "source": [
    "# 선형 모델\n",
    "lin_scores = cross_val_score(lin_reg, housing_prepared, housing_labels,\n",
    "                            scoring=\"neg_mean_squared_error\", cv=10)\n",
    "lin_rmse_scores = np.sqrt(-lin_scores)\n",
    "display_scores(lin_rmse_scores)"
   ]
  },
  {
   "cell_type": "markdown",
   "id": "93707489",
   "metadata": {},
   "source": [
    "### 3) 앙상블 학습 모델 - RandomForestRegressor"
   ]
  },
  {
   "cell_type": "code",
   "execution_count": 103,
   "id": "a3a59013",
   "metadata": {},
   "outputs": [
    {
     "data": {
      "text/plain": [
       "RandomForestRegressor(random_state=42)"
      ]
     },
     "execution_count": 103,
     "metadata": {},
     "output_type": "execute_result"
    }
   ],
   "source": [
    "from sklearn.ensemble import RandomForestRegressor\n",
    "\n",
    "forest_reg = RandomForestRegressor(n_estimators=100, random_state=42) # n_est: tree 연결 개수\n",
    "forest_reg.fit(housing_prepared, housing_labels)"
   ]
  },
  {
   "cell_type": "code",
   "execution_count": 104,
   "id": "e3db0f29",
   "metadata": {},
   "outputs": [
    {
     "data": {
      "text/plain": [
       "85023029.45663531"
      ]
     },
     "execution_count": 104,
     "metadata": {},
     "output_type": "execute_result"
    }
   ],
   "source": [
    "housing_predictions = forest_reg.predict(housing_prepared)\n",
    "forest_mse = mean_squared_error(housing_labels, housing_predictions)\n",
    "forest_rmse = np.sqrt(forest_mse)\n",
    "forest_rmse"
   ]
  },
  {
   "cell_type": "code",
   "execution_count": 105,
   "id": "4c3d63ee",
   "metadata": {},
   "outputs": [
    {
     "name": "stdout",
     "output_type": "stream",
     "text": [
      "점수: [2.30473605e+08 2.40996912e+08 2.29323740e+08 2.09092985e+08\n",
      " 2.24949408e+08 1.93957970e+08 2.40108269e+08 2.13695417e+08\n",
      " 2.07364506e+08 1.94572172e+08]\n",
      "평균: 218453498.3122534\n",
      "표준편차: 16387646.34800692\n"
     ]
    }
   ],
   "source": [
    "from sklearn.model_selection import cross_val_score\n",
    "forest_scores = cross_val_score(forest_reg, housing_prepared, housing_labels,\n",
    "                               scoring = \"neg_mean_squared_error\", cv=10)\n",
    "forest_rmse_scores = np.sqrt(-forest_scores)\n",
    "display_scores(forest_rmse_scores)"
   ]
  },
  {
   "cell_type": "markdown",
   "id": "740a49fb",
   "metadata": {},
   "source": [
    "## 8. 모델 세부 튜닝"
   ]
  },
  {
   "cell_type": "markdown",
   "id": "3c0d3f59",
   "metadata": {},
   "source": [
    "### 1) 그리드 탐색"
   ]
  },
  {
   "cell_type": "code",
   "execution_count": 123,
   "id": "de97c780",
   "metadata": {},
   "outputs": [
    {
     "data": {
      "text/plain": [
       "GridSearchCV(cv=5, estimator=RandomForestRegressor(random_state=42),\n",
       "             param_grid=[{'max_features': [2, 4, 6, 8],\n",
       "                          'n_estimators': [3, 10, 30]},\n",
       "                         {'bootstrap': [False], 'max_features': [2, 3, 4],\n",
       "                          'n_estimators': [3, 10]}],\n",
       "             return_train_score=True, scoring='neg_mean_squared_error')"
      ]
     },
     "execution_count": 123,
     "metadata": {},
     "output_type": "execute_result"
    }
   ],
   "source": [
    "from sklearn.model_selection import GridSearchCV \n",
    "\n",
    "param_grid = [ \n",
    "    {'n_estimators': [3,10,30], 'max_features': [2, 4, 6, 8]}, \n",
    "    {'bootstrap':[False], 'n_estimators':[3,10], 'max_features':[2,3,4]}  \n",
    "]\n",
    "\n",
    "forest_reg = RandomForestRegressor(random_state=42)\n",
    "\n",
    "grid_search = GridSearchCV(forest_reg, param_grid, cv = 5,\n",
    "                          scoring='neg_mean_squared_error',\n",
    "                          return_train_score=True)  \n",
    "grid_search.fit(housing_prepared, housing_labels)"
   ]
  },
  {
   "cell_type": "code",
   "execution_count": 107,
   "id": "f31378cf",
   "metadata": {},
   "outputs": [
    {
     "name": "stdout",
     "output_type": "stream",
     "text": [
      "{'max_features': 6, 'n_estimators': 30}\n",
      "RandomForestRegressor(max_features=6, n_estimators=30, random_state=42)\n"
     ]
    },
    {
     "data": {
      "text/html": [
       "<div>\n",
       "<style scoped>\n",
       "    .dataframe tbody tr th:only-of-type {\n",
       "        vertical-align: middle;\n",
       "    }\n",
       "\n",
       "    .dataframe tbody tr th {\n",
       "        vertical-align: top;\n",
       "    }\n",
       "\n",
       "    .dataframe thead th {\n",
       "        text-align: right;\n",
       "    }\n",
       "</style>\n",
       "<table border=\"1\" class=\"dataframe\">\n",
       "  <thead>\n",
       "    <tr style=\"text-align: right;\">\n",
       "      <th></th>\n",
       "      <th>mean_fit_time</th>\n",
       "      <th>std_fit_time</th>\n",
       "      <th>mean_score_time</th>\n",
       "      <th>std_score_time</th>\n",
       "      <th>param_max_features</th>\n",
       "      <th>param_n_estimators</th>\n",
       "      <th>param_bootstrap</th>\n",
       "      <th>params</th>\n",
       "      <th>split0_test_score</th>\n",
       "      <th>split1_test_score</th>\n",
       "      <th>...</th>\n",
       "      <th>mean_test_score</th>\n",
       "      <th>std_test_score</th>\n",
       "      <th>rank_test_score</th>\n",
       "      <th>split0_train_score</th>\n",
       "      <th>split1_train_score</th>\n",
       "      <th>split2_train_score</th>\n",
       "      <th>split3_train_score</th>\n",
       "      <th>split4_train_score</th>\n",
       "      <th>mean_train_score</th>\n",
       "      <th>std_train_score</th>\n",
       "    </tr>\n",
       "  </thead>\n",
       "  <tbody>\n",
       "    <tr>\n",
       "      <th>0</th>\n",
       "      <td>0.943119</td>\n",
       "      <td>0.037974</td>\n",
       "      <td>0.057730</td>\n",
       "      <td>0.011153</td>\n",
       "      <td>2</td>\n",
       "      <td>3</td>\n",
       "      <td>NaN</td>\n",
       "      <td>{'max_features': 2, 'n_estimators': 3}</td>\n",
       "      <td>-6.528459e+16</td>\n",
       "      <td>-7.086767e+16</td>\n",
       "      <td>...</td>\n",
       "      <td>-6.538523e+16</td>\n",
       "      <td>6.730053e+15</td>\n",
       "      <td>14</td>\n",
       "      <td>-1.854551e+16</td>\n",
       "      <td>-1.683959e+16</td>\n",
       "      <td>-1.631010e+16</td>\n",
       "      <td>-1.734322e+16</td>\n",
       "      <td>-1.789539e+16</td>\n",
       "      <td>-1.738676e+16</td>\n",
       "      <td>7.825467e+14</td>\n",
       "    </tr>\n",
       "    <tr>\n",
       "      <th>1</th>\n",
       "      <td>2.907542</td>\n",
       "      <td>0.047452</td>\n",
       "      <td>0.174505</td>\n",
       "      <td>0.006605</td>\n",
       "      <td>2</td>\n",
       "      <td>10</td>\n",
       "      <td>NaN</td>\n",
       "      <td>{'max_features': 2, 'n_estimators': 10}</td>\n",
       "      <td>-5.213653e+16</td>\n",
       "      <td>-5.990350e+16</td>\n",
       "      <td>...</td>\n",
       "      <td>-5.219147e+16</td>\n",
       "      <td>6.143201e+15</td>\n",
       "      <td>5</td>\n",
       "      <td>-1.102408e+16</td>\n",
       "      <td>-1.021632e+16</td>\n",
       "      <td>-1.043567e+16</td>\n",
       "      <td>-1.021904e+16</td>\n",
       "      <td>-1.040751e+16</td>\n",
       "      <td>-1.046052e+16</td>\n",
       "      <td>2.963010e+14</td>\n",
       "    </tr>\n",
       "    <tr>\n",
       "      <th>2</th>\n",
       "      <td>8.952047</td>\n",
       "      <td>0.143270</td>\n",
       "      <td>0.532319</td>\n",
       "      <td>0.013875</td>\n",
       "      <td>2</td>\n",
       "      <td>30</td>\n",
       "      <td>NaN</td>\n",
       "      <td>{'max_features': 2, 'n_estimators': 30}</td>\n",
       "      <td>-4.848186e+16</td>\n",
       "      <td>-5.530795e+16</td>\n",
       "      <td>...</td>\n",
       "      <td>-4.954657e+16</td>\n",
       "      <td>5.265843e+15</td>\n",
       "      <td>4</td>\n",
       "      <td>-8.591774e+15</td>\n",
       "      <td>-8.516922e+15</td>\n",
       "      <td>-8.268187e+15</td>\n",
       "      <td>-8.267177e+15</td>\n",
       "      <td>-8.499676e+15</td>\n",
       "      <td>-8.428747e+15</td>\n",
       "      <td>1.351058e+14</td>\n",
       "    </tr>\n",
       "    <tr>\n",
       "      <th>3</th>\n",
       "      <td>1.109867</td>\n",
       "      <td>0.042820</td>\n",
       "      <td>0.067778</td>\n",
       "      <td>0.006487</td>\n",
       "      <td>4</td>\n",
       "      <td>3</td>\n",
       "      <td>NaN</td>\n",
       "      <td>{'max_features': 4, 'n_estimators': 3}</td>\n",
       "      <td>-6.363198e+16</td>\n",
       "      <td>-7.102406e+16</td>\n",
       "      <td>...</td>\n",
       "      <td>-6.405343e+16</td>\n",
       "      <td>5.649760e+15</td>\n",
       "      <td>12</td>\n",
       "      <td>-1.661006e+16</td>\n",
       "      <td>-1.646202e+16</td>\n",
       "      <td>-1.548032e+16</td>\n",
       "      <td>-1.650807e+16</td>\n",
       "      <td>-1.754587e+16</td>\n",
       "      <td>-1.652127e+16</td>\n",
       "      <td>6.549740e+14</td>\n",
       "    </tr>\n",
       "    <tr>\n",
       "      <th>4</th>\n",
       "      <td>3.394406</td>\n",
       "      <td>0.065313</td>\n",
       "      <td>0.181305</td>\n",
       "      <td>0.010885</td>\n",
       "      <td>4</td>\n",
       "      <td>10</td>\n",
       "      <td>NaN</td>\n",
       "      <td>{'max_features': 4, 'n_estimators': 10}</td>\n",
       "      <td>-5.312628e+16</td>\n",
       "      <td>-6.161293e+16</td>\n",
       "      <td>...</td>\n",
       "      <td>-5.358717e+16</td>\n",
       "      <td>6.602807e+15</td>\n",
       "      <td>9</td>\n",
       "      <td>-1.006780e+16</td>\n",
       "      <td>-9.977578e+15</td>\n",
       "      <td>-1.028371e+16</td>\n",
       "      <td>-9.984688e+15</td>\n",
       "      <td>-1.058928e+16</td>\n",
       "      <td>-1.018061e+16</td>\n",
       "      <td>2.323666e+14</td>\n",
       "    </tr>\n",
       "  </tbody>\n",
       "</table>\n",
       "<p>5 rows × 23 columns</p>\n",
       "</div>"
      ],
      "text/plain": [
       "   mean_fit_time  std_fit_time  mean_score_time  std_score_time  \\\n",
       "0       0.943119      0.037974         0.057730        0.011153   \n",
       "1       2.907542      0.047452         0.174505        0.006605   \n",
       "2       8.952047      0.143270         0.532319        0.013875   \n",
       "3       1.109867      0.042820         0.067778        0.006487   \n",
       "4       3.394406      0.065313         0.181305        0.010885   \n",
       "\n",
       "  param_max_features param_n_estimators param_bootstrap  \\\n",
       "0                  2                  3             NaN   \n",
       "1                  2                 10             NaN   \n",
       "2                  2                 30             NaN   \n",
       "3                  4                  3             NaN   \n",
       "4                  4                 10             NaN   \n",
       "\n",
       "                                    params  split0_test_score  \\\n",
       "0   {'max_features': 2, 'n_estimators': 3}      -6.528459e+16   \n",
       "1  {'max_features': 2, 'n_estimators': 10}      -5.213653e+16   \n",
       "2  {'max_features': 2, 'n_estimators': 30}      -4.848186e+16   \n",
       "3   {'max_features': 4, 'n_estimators': 3}      -6.363198e+16   \n",
       "4  {'max_features': 4, 'n_estimators': 10}      -5.312628e+16   \n",
       "\n",
       "   split1_test_score  ...  mean_test_score  std_test_score  rank_test_score  \\\n",
       "0      -7.086767e+16  ...    -6.538523e+16    6.730053e+15               14   \n",
       "1      -5.990350e+16  ...    -5.219147e+16    6.143201e+15                5   \n",
       "2      -5.530795e+16  ...    -4.954657e+16    5.265843e+15                4   \n",
       "3      -7.102406e+16  ...    -6.405343e+16    5.649760e+15               12   \n",
       "4      -6.161293e+16  ...    -5.358717e+16    6.602807e+15                9   \n",
       "\n",
       "   split0_train_score  split1_train_score  split2_train_score  \\\n",
       "0       -1.854551e+16       -1.683959e+16       -1.631010e+16   \n",
       "1       -1.102408e+16       -1.021632e+16       -1.043567e+16   \n",
       "2       -8.591774e+15       -8.516922e+15       -8.268187e+15   \n",
       "3       -1.661006e+16       -1.646202e+16       -1.548032e+16   \n",
       "4       -1.006780e+16       -9.977578e+15       -1.028371e+16   \n",
       "\n",
       "   split3_train_score  split4_train_score  mean_train_score  std_train_score  \n",
       "0       -1.734322e+16       -1.789539e+16     -1.738676e+16     7.825467e+14  \n",
       "1       -1.021904e+16       -1.040751e+16     -1.046052e+16     2.963010e+14  \n",
       "2       -8.267177e+15       -8.499676e+15     -8.428747e+15     1.351058e+14  \n",
       "3       -1.650807e+16       -1.754587e+16     -1.652127e+16     6.549740e+14  \n",
       "4       -9.984688e+15       -1.058928e+16     -1.018061e+16     2.323666e+14  \n",
       "\n",
       "[5 rows x 23 columns]"
      ]
     },
     "execution_count": 107,
     "metadata": {},
     "output_type": "execute_result"
    }
   ],
   "source": [
    "print(grid_search.best_params_)\n",
    "print(grid_search.best_estimator_)\n",
    "\n",
    "pd.DataFrame(grid_search.cv_results_).head()"
   ]
  },
  {
   "cell_type": "code",
   "execution_count": 124,
   "id": "22e1e0f2",
   "metadata": {},
   "outputs": [
    {
     "name": "stdout",
     "output_type": "stream",
     "text": [
      "255705355.32426572 {'max_features': 2, 'n_estimators': 3}\n",
      "228454534.98843613 {'max_features': 2, 'n_estimators': 10}\n",
      "222590598.89478055 {'max_features': 2, 'n_estimators': 30}\n",
      "253087784.65063518 {'max_features': 4, 'n_estimators': 3}\n",
      "231489018.6055483 {'max_features': 4, 'n_estimators': 10}\n",
      "222175573.3693818 {'max_features': 4, 'n_estimators': 30}\n",
      "256610018.6297325 {'max_features': 6, 'n_estimators': 3}\n",
      "228516660.3611415 {'max_features': 6, 'n_estimators': 10}\n",
      "220350179.9510211 {'max_features': 6, 'n_estimators': 30}\n",
      "257700077.10883674 {'max_features': 8, 'n_estimators': 3}\n",
      "230074451.3158684 {'max_features': 8, 'n_estimators': 10}\n",
      "221330813.65594158 {'max_features': 8, 'n_estimators': 30}\n",
      "260079963.6709701 {'bootstrap': False, 'max_features': 2, 'n_estimators': 3}\n",
      "232292281.5060541 {'bootstrap': False, 'max_features': 2, 'n_estimators': 10}\n",
      "258214196.80846348 {'bootstrap': False, 'max_features': 3, 'n_estimators': 3}\n",
      "232490161.23907816 {'bootstrap': False, 'max_features': 3, 'n_estimators': 10}\n",
      "253879637.82156986 {'bootstrap': False, 'max_features': 4, 'n_estimators': 3}\n",
      "231218314.5492474 {'bootstrap': False, 'max_features': 4, 'n_estimators': 10}\n"
     ]
    }
   ],
   "source": [
    "# 그리드 탐색 결과\n",
    "cvres = grid_search.cv_results_\n",
    "for mean_score, params in zip(cvres[\"mean_test_score\"], cvres[\"params\"]):\n",
    "    print(np.sqrt(-mean_score), params)"
   ]
  },
  {
   "cell_type": "markdown",
   "id": "40aa723c",
   "metadata": {},
   "source": [
    "### 2) 랜덤 탐색"
   ]
  },
  {
   "cell_type": "code",
   "execution_count": 109,
   "id": "703f5dd2",
   "metadata": {},
   "outputs": [
    {
     "data": {
      "text/plain": [
       "RandomizedSearchCV(cv=5, estimator=RandomForestRegressor(random_state=42),\n",
       "                   param_distributions={'max_features': <scipy.stats._distn_infrastructure.rv_frozen object at 0x000002858132BAC8>,\n",
       "                                        'n_estimators': <scipy.stats._distn_infrastructure.rv_frozen object at 0x00000285813303C8>},\n",
       "                   random_state=42, scoring='neg_mean_squared_error')"
      ]
     },
     "execution_count": 109,
     "metadata": {},
     "output_type": "execute_result"
    }
   ],
   "source": [
    "from sklearn.model_selection import RandomizedSearchCV\n",
    "from scipy.stats import randint\n",
    "\n",
    "param_distribs = {\n",
    "    'n_estimators': randint(low=1, high=200),\n",
    "    'max_features': randint(low=1, high=8),\n",
    "}\n",
    "\n",
    "forest_reg = RandomForestRegressor(random_state=42)\n",
    "rnd_search = RandomizedSearchCV(forest_reg, param_distributions=param_distribs,\n",
    "                               n_iter=10, cv=5, \n",
    "                                scoring='neg_mean_squared_error', random_state=42)\n",
    "rnd_search.fit(housing_prepared, housing_labels)"
   ]
  },
  {
   "cell_type": "code",
   "execution_count": 110,
   "id": "b08addf6",
   "metadata": {},
   "outputs": [
    {
     "name": "stdout",
     "output_type": "stream",
     "text": [
      "218544853.81871048 {'max_features': 7, 'n_estimators': 180}\n",
      "227213238.461385 {'max_features': 5, 'n_estimators': 15}\n",
      "221796281.07463717 {'max_features': 3, 'n_estimators': 72}\n",
      "223692804.6866439 {'max_features': 5, 'n_estimators': 21}\n",
      "218997028.2220248 {'max_features': 7, 'n_estimators': 122}\n",
      "221852516.81091967 {'max_features': 3, 'n_estimators': 75}\n",
      "221649881.55745128 {'max_features': 3, 'n_estimators': 88}\n",
      "220310980.64816234 {'max_features': 5, 'n_estimators': 100}\n",
      "220409540.52436066 {'max_features': 3, 'n_estimators': 150}\n",
      "283227596.14590186 {'max_features': 5, 'n_estimators': 2}\n"
     ]
    }
   ],
   "source": [
    "cvres = rnd_search.cv_results_\n",
    "for mean_score, params in zip(cvres[\"mean_test_score\"], cvres[\"params\"]):\n",
    "    print(np.sqrt(-mean_score), params)"
   ]
  },
  {
   "cell_type": "markdown",
   "id": "427b8d7b",
   "metadata": {},
   "source": [
    "## 9. 최종 모델 평가\n",
    "- 특성 중요도와 결과"
   ]
  },
  {
   "cell_type": "code",
   "execution_count": 111,
   "id": "58db3fb4",
   "metadata": {},
   "outputs": [
    {
     "data": {
      "text/plain": [
       "array([0.18562794, 0.34470343, 0.03355956, 0.10301481, 0.01541183,\n",
       "       0.03941592, 0.0574007 , 0.01097694, 0.06972992, 0.00184516,\n",
       "       0.00252231, 0.00173693, 0.00133591, 0.00280235, 0.0032887 ,\n",
       "       0.00181079, 0.00476691, 0.00547647, 0.00115171, 0.00363777,\n",
       "       0.00767981, 0.00160083, 0.04316327, 0.00966197, 0.00274457,\n",
       "       0.01557284, 0.00315967, 0.00236609, 0.01529071, 0.00255144,\n",
       "       0.00222062, 0.00147113, 0.00230098])"
      ]
     },
     "execution_count": 111,
     "metadata": {},
     "output_type": "execute_result"
    }
   ],
   "source": [
    "feature_importances = rnd_search.best_estimator_.feature_importances_\n",
    "feature_importances"
   ]
  },
  {
   "cell_type": "code",
   "execution_count": 118,
   "id": "17ac0ca4",
   "metadata": {},
   "outputs": [
    {
     "data": {
      "text/plain": [
       "214630054.33044952"
      ]
     },
     "execution_count": 118,
     "metadata": {},
     "output_type": "execute_result"
    }
   ],
   "source": [
    "final_model = rnd_search.best_estimator_\n",
    "\n",
    "X_test = strat_test_set.drop(\"물건금액\", axis=1)\n",
    "y_test = strat_test_set[\"물건금액\"].copy()\n",
    "\n",
    "X_test_prepared = full_pipeline.transform(X_test)\n",
    "final_predictions = final_model.predict(X_test_prepared)\n",
    "\n",
    "final_mse = mean_squared_error(y_test, final_predictions)\n",
    "final_rmse = np.sqrt(final_mse)\n",
    "final_rmse"
   ]
  }
 ],
 "metadata": {
  "kernelspec": {
   "display_name": "Python 3",
   "language": "python",
   "name": "python3"
  },
  "language_info": {
   "codemirror_mode": {
    "name": "ipython",
    "version": 3
   },
   "file_extension": ".py",
   "mimetype": "text/x-python",
   "name": "python",
   "nbconvert_exporter": "python",
   "pygments_lexer": "ipython3",
   "version": "3.7.10"
  }
 },
 "nbformat": 4,
 "nbformat_minor": 5
}
